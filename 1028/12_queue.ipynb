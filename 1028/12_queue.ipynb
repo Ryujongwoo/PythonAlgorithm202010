{
 "cells": [
  {
   "cell_type": "code",
   "execution_count": 30,
   "metadata": {},
   "outputs": [],
   "source": [
    "class Queue:\n",
    "    def __init__(self, size = 5):\n",
    "        self.queue = []\n",
    "        self.size = size\n",
    "        self.front = 0 # 큐의 앞쪽 포인터, 큐에서 데이터가 제거될 때 마다 1씩 증가한다.\n",
    "        self.rear = 0  # 큐의 뒤쪽 포인터, 큐에 데이터가 추가될 때 마다 1씩 증가한다.\n",
    "        \n",
    "    # add => 큐에 데이터를 추가한다.\n",
    "    def add(self, data):\n",
    "        if data not in self.queue:\n",
    "            if self.rear < self.size: # Overflow?\n",
    "                # Overflow가 발생되지 않았으면 큐에 데이터를 추가한다.\n",
    "                self.queue.append(data)\n",
    "                self.rear += 1\n",
    "                print('큐에 {}을(를) ADD 합니다.'.format(data), end = ' ')\n",
    "                print('rear = {}. front = {}'.format(self.rear, self.front), end = ' ')\n",
    "            else:\n",
    "                print('Overflow... 큐가 가득차서 {}을(를) ADD 할 수 없습니다.'.format(data), end = ' ')           \n",
    "        else:\n",
    "            print('{}는(은) 중복된 데이터 입니다.'.format(data), end = ' ')\n",
    "        self.view()\n",
    "    \n",
    "    # remove => 큐에 저장된 데이터를 제거한다.\n",
    "    def remove(self):\n",
    "        # Underflow 인가 검사한다.\n",
    "        # 큐에 데이터가 한 번도 입력되지 않았을 때 => rear가 0일 때\n",
    "        # 큐에 입력된 모든 데이터가 제거되었을 때 => rear와 front가 같을 때\n",
    "        if self.rear == 0 or self.rear == self.front:\n",
    "            print('큐에 저장된 데이터가 없습니다.')\n",
    "        else:\n",
    "            data = self.queue[self.front]\n",
    "            print('REMOVE 데이터 : {}'.format(data), end = ' ')\n",
    "            self.queue[self.front] = ''\n",
    "            self.front += 1\n",
    "            print('rear = {}. front = {}'.format(self.rear, self.front), end = ' ')\n",
    "            self.view()\n",
    "            \n",
    "    # view => 목록보기\n",
    "    def view(self):\n",
    "        print('큐에 저장된 데이터 => ', end = '')\n",
    "        if self.rear == 0 or self.rear == self.front:\n",
    "            # 큐에 저장된 데이터가 없으므로 없다고 출력한다.\n",
    "            print('없음', end = '')\n",
    "        else:\n",
    "            # 큐에 저장된 데이터가 있으므로 front 부터 rear 까지 반복하며 데이터를 출력한다.\n",
    "            for i in range(self.front, self.rear):\n",
    "                if i > 0:\n",
    "                    print(', ', end = '')\n",
    "                print(self.queue[i], end = '')\n",
    "        print()      "
   ]
  },
  {
   "cell_type": "code",
   "execution_count": 31,
   "metadata": {},
   "outputs": [
    {
     "name": "stdout",
     "output_type": "stream",
     "text": [
      "큐에 저장된 데이터 => 없음\n",
      "큐에 111을(를) ADD 합니다. rear = 1. front = 0 큐에 저장된 데이터 => 111\n",
      "큐에 333을(를) ADD 합니다. rear = 2. front = 0 큐에 저장된 데이터 => 111, 333\n",
      "큐에 222을(를) ADD 합니다. rear = 3. front = 0 큐에 저장된 데이터 => 111, 333, 222\n",
      "큐에 777을(를) ADD 합니다. rear = 4. front = 0 큐에 저장된 데이터 => 111, 333, 222, 777\n",
      "큐에 999을(를) ADD 합니다. rear = 5. front = 0 큐에 저장된 데이터 => 111, 333, 222, 777, 999\n",
      "Overflow... 큐가 가득차서 444을(를) ADD 할 수 없습니다. 큐에 저장된 데이터 => 111, 333, 222, 777, 999\n",
      "REMOVE 데이터 : 111 rear = 5. front = 1 큐에 저장된 데이터 => , 333, 222, 777, 999\n",
      "REMOVE 데이터 : 333 rear = 5. front = 2 큐에 저장된 데이터 => , 222, 777, 999\n",
      "REMOVE 데이터 : 222 rear = 5. front = 3 큐에 저장된 데이터 => , 777, 999\n",
      "REMOVE 데이터 : 777 rear = 5. front = 4 큐에 저장된 데이터 => , 999\n",
      "REMOVE 데이터 : 999 rear = 5. front = 5 큐에 저장된 데이터 => 없음\n",
      "큐에 저장된 데이터가 없습니다.\n"
     ]
    }
   ],
   "source": [
    "if __name__ == '__main__':\n",
    "    # 테스트 코드\n",
    "    queue = Queue()\n",
    "    queue.view()\n",
    "    queue.add(111)\n",
    "    queue.add(333)\n",
    "    queue.add(222)\n",
    "    queue.add(777)\n",
    "    queue.add(999)\n",
    "    queue.add(444)\n",
    "    queue.remove()\n",
    "    queue.remove()\n",
    "    queue.remove()\n",
    "    queue.remove()\n",
    "    queue.remove()\n",
    "    queue.remove()"
   ]
  },
  {
   "cell_type": "code",
   "execution_count": null,
   "metadata": {},
   "outputs": [],
   "source": []
  },
  {
   "cell_type": "code",
   "execution_count": null,
   "metadata": {},
   "outputs": [],
   "source": []
  },
  {
   "cell_type": "code",
   "execution_count": null,
   "metadata": {},
   "outputs": [],
   "source": []
  },
  {
   "cell_type": "code",
   "execution_count": null,
   "metadata": {},
   "outputs": [],
   "source": []
  },
  {
   "cell_type": "code",
   "execution_count": null,
   "metadata": {},
   "outputs": [],
   "source": []
  }
 ],
 "metadata": {
  "kernelspec": {
   "display_name": "Python 3",
   "language": "python",
   "name": "python3"
  },
  "language_info": {
   "codemirror_mode": {
    "name": "ipython",
    "version": 3
   },
   "file_extension": ".py",
   "mimetype": "text/x-python",
   "name": "python",
   "nbconvert_exporter": "python",
   "pygments_lexer": "ipython3",
   "version": "3.6.8"
  }
 },
 "nbformat": 4,
 "nbformat_minor": 4
}
