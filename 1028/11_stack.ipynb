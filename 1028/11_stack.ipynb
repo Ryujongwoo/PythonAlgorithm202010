{
 "cells": [
  {
   "cell_type": "code",
   "execution_count": 113,
   "metadata": {},
   "outputs": [],
   "source": [
    "class Stack:\n",
    "    # Stack 클래스가 생성될 때 스택의 크기를 넘겨받으면 넘겨받은 스택의 크기 만큼 스택을 생성하고 크기를 넘겨받지 않으면 5개의\n",
    "    # 데이터를 저장할 수 있는 스택을 만든다. => default 인수를 사용하면 된다.\n",
    "    def __init__(self, size = 5):\n",
    "        # print('Stack 클래스의 객체가 생성될 때 생성자가 자동으로 실행된다.')\n",
    "        # print('Stack 클래스 객체가 메모리에 생성된 주소 : {}'.format(self))\n",
    "        # print('스택의 크기는 {}개'.format(size))\n",
    "        self.stack = []  # stack => 빈 리스트 => 데이터는 append() 메소드로 추가한다.\n",
    "        self.size = size # 스택의 크기\n",
    "        # top, SP(Stack Pointer) => stack에 몇 개의 데이터가 저장되었나 기억한다. => 데이터가 입력되면 1증가, 출력되면 1감소\n",
    "        self.top = 0\n",
    "        \n",
    "    # push => 입력\n",
    "    def push(self, data):\n",
    "        if data not in self.stack: # 스택에 추가할 데이터가 스택에 존재하지 않는가?\n",
    "            # 데이터가 스택에 존재핮 않기 때문에 스택에 데이터를 추가한다.\n",
    "            # Overflow 인가 검사한다. => 스택의 크기가 5일 때 스택으로 사용할 리스트의 인덱스는 0, 1, 2, 3, 4 만 가능하다.\n",
    "            if self.top < self.size:\n",
    "                # Overflow가 발생되지 않았으면 스택에 데이터를 추가한다.\n",
    "                self.stack.append(data) # 스택에 데이터를 추가한다.\n",
    "                self.top += 1                # 스택에 데이터를 추가했으므로 SP를 1증가 시킨다.\n",
    "                print('스택에 {}을(를) PUSH 합니다.'.format(data), end = ' ')\n",
    "            else:\n",
    "                # Overflow가 발생되면 스택이 가득 찼다는 메시지를 출력한다.\n",
    "                print('Overflow... 스택이 가득차서 {}을(를) PUSH 할 수 없습니다.'.format(data), end = ' ')\n",
    "            # ==========\n",
    "        else:\n",
    "            print('{}는(은) 중복된 데이터 입니다.'.format(data), end = ' ')\n",
    "        # ==========\n",
    "        self.view()\n",
    "    # ==========\n",
    "    \n",
    "    # pop => 출력\n",
    "    def pop(self):\n",
    "        # Underflow 인가 검사한다.\n",
    "        if self.top <= 0:\n",
    "            print('스택에 저장된 데이터가 없습니다.')\n",
    "        else:\n",
    "            # pop() 메소드는 리스트에 저장된 마지막 데이터를 얻어온 후 제거한다.\n",
    "            data = self.stack.pop()\n",
    "            self.top -= 1\n",
    "            print('POP 데이터 : {}'.format(data), end = ' ')\n",
    "            self.view()\n",
    "    \n",
    "    # view => 목록보기\n",
    "    def view(self):\n",
    "        print('스택에 저장된 데이터 => ', end = '')\n",
    "        if self.top <= 0:\n",
    "            # 스택에 저장된 데이터가 없으므로 없다고 출력한다.\n",
    "            print('없음', end = '')\n",
    "        else:\n",
    "            # 스택에 저장된 데이터가 있으므로 스택에 저장된 데이터의 개수 만큼 반복하며 스택에 저장된 데이터를 출력한다.\n",
    "            for i in range(self.top):\n",
    "                if i > 0:\n",
    "                    print(', ', end = '')\n",
    "                print(self.stack[i], end = '')\n",
    "            # ==========\n",
    "        # ==========\n",
    "        print()      "
   ]
  },
  {
   "cell_type": "code",
   "execution_count": 114,
   "metadata": {},
   "outputs": [
    {
     "name": "stdout",
     "output_type": "stream",
     "text": [
      "스택에 저장된 데이터 => 없음\n",
      "스택에 111을(를) PUSH 합니다. 스택에 저장된 데이터 => 111\n",
      "스택에 수요일을(를) PUSH 합니다. 스택에 저장된 데이터 => 111, 수요일\n",
      "스택에 True을(를) PUSH 합니다. 스택에 저장된 데이터 => 111, 수요일, True\n",
      "스택에 3.141592을(를) PUSH 합니다. 스택에 저장된 데이터 => 111, 수요일, True, 3.141592\n",
      "스택에 222을(를) PUSH 합니다. 스택에 저장된 데이터 => 111, 수요일, True, 3.141592, 222\n",
      "Overflow... 스택이 가득차서 333을(를) PUSH 할 수 없습니다. 스택에 저장된 데이터 => 111, 수요일, True, 3.141592, 222\n",
      "수요일는(은) 중복된 데이터 입니다. 스택에 저장된 데이터 => 111, 수요일, True, 3.141592, 222\n",
      "POP 데이터 : 222 스택에 저장된 데이터 => 111, 수요일, True, 3.141592\n",
      "POP 데이터 : 3.141592 스택에 저장된 데이터 => 111, 수요일, True\n",
      "POP 데이터 : True 스택에 저장된 데이터 => 111, 수요일\n",
      "POP 데이터 : 수요일 스택에 저장된 데이터 => 111\n",
      "POP 데이터 : 111 스택에 저장된 데이터 => 없음\n"
     ]
    }
   ],
   "source": [
    "# 현재 파일이 다른 파일에 모듈로 import 될 때 if __name__ == '__main__' 다음에 코딩한 내용이 자동으로 실행되지 않는다.\n",
    "if __name__ == '__main__':\n",
    "    # 테스트 코드\n",
    "    stack = Stack()\n",
    "    stack.view()\n",
    "    stack.push(111)\n",
    "    stack.push('수요일')\n",
    "    stack.push(True)\n",
    "    stack.push(3.141592)\n",
    "    stack.push(222)\n",
    "    stack.push(333) # Overflow\n",
    "    stack.push('수요일')\n",
    "    stack.pop()\n",
    "    stack.pop()\n",
    "    stack.pop()\n",
    "    stack.pop()\n",
    "    stack.pop()"
   ]
  },
  {
   "cell_type": "code",
   "execution_count": null,
   "metadata": {},
   "outputs": [],
   "source": []
  },
  {
   "cell_type": "code",
   "execution_count": null,
   "metadata": {},
   "outputs": [],
   "source": []
  },
  {
   "cell_type": "code",
   "execution_count": null,
   "metadata": {},
   "outputs": [],
   "source": []
  },
  {
   "cell_type": "code",
   "execution_count": null,
   "metadata": {},
   "outputs": [],
   "source": []
  }
 ],
 "metadata": {
  "kernelspec": {
   "display_name": "Python 3",
   "language": "python",
   "name": "python3"
  },
  "language_info": {
   "codemirror_mode": {
    "name": "ipython",
    "version": 3
   },
   "file_extension": ".py",
   "mimetype": "text/x-python",
   "name": "python",
   "nbconvert_exporter": "python",
   "pygments_lexer": "ipython3",
   "version": "3.6.8"
  }
 },
 "nbformat": 4,
 "nbformat_minor": 4
}
