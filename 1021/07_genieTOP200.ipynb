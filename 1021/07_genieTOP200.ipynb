{
 "cells": [
  {
   "cell_type": "code",
   "execution_count": 6,
   "metadata": {},
   "outputs": [],
   "source": [
    "import requests\n",
    "from bs4 import BeautifulSoup\n",
    "from datetime import datetime as dt\n",
    "import time\n",
    "header = {'User-agent': 'Mozilla/5.0 (Windows NT 6.1; WOW64; Trident/7.0; rv:11.0) like Gecko'}"
   ]
  },
  {
   "cell_type": "code",
   "execution_count": 5,
   "metadata": {},
   "outputs": [
    {
     "name": "stdout",
     "output_type": "stream",
     "text": [
      "https://www.genie.co.kr/chart/top200?ditc=D&ymd=20201021&hh=21&rtm=Y&pg=1\n",
      "https://www.genie.co.kr/chart/top200?ditc=D&ymd=20201021&hh=21&rtm=Y&pg=2\n",
      "https://www.genie.co.kr/chart/top200?ditc=D&ymd=20201021&hh=21&rtm=Y&pg=3\n",
      "https://www.genie.co.kr/chart/top200?ditc=D&ymd=20201021&hh=21&rtm=Y&pg=4\n"
     ]
    }
   ],
   "source": [
    "# 타겟 사이트 주소 만들기\n",
    "url = 'https://www.genie.co.kr/chart/top200?ditc=D&ymd=20201021&hh=21&rtm=Y&pg=' # 변경되지 않는 주소\n",
    "for i in range(1, 5):\n",
    "    # print(url + str(i))\n",
    "    print('{}{}'.format(url, i))\n",
    "# https://www.genie.co.kr/chart/top200?ditc=D&ymd=20201021&hh=21&rtm=Y&pg=1 =>   1 ~  50\n",
    "# https://www.genie.co.kr/chart/top200?ditc=D&ymd=20201021&hh=21&rtm=Y&pg=2 =>  51 ~ 100\n",
    "# https://www.genie.co.kr/chart/top200?ditc=D&ymd=20201021&hh=21&rtm=Y&pg=3 => 101 ~ 150\n",
    "# https://www.genie.co.kr/chart/top200?ditc=D&ymd=20201021&hh=21&rtm=Y&pg=4 => 151 ~ 200"
   ]
  },
  {
   "cell_type": "code",
   "execution_count": 21,
   "metadata": {},
   "outputs": [
    {
     "name": "stdout",
     "output_type": "stream",
     "text": [
      "놓아줘 (With 태연)\n",
      "힘든 건 사랑이 아니다\n",
      "DON'T TOUCH ME\n",
      "Dynamite\n",
      "Lovesick Girls\n",
      "딩가딩가 (Dingga)\n",
      "Savage Love (Laxed - Siren Beat) (BTS Remix)\n",
      "HOME;RUN\n",
      "Tip Toe (With 이하이)\n",
      "사랑 못해, 남들 쉽게 다 하는 거\n",
      "잠이 들어야 (Feat. 헤이즈)\n",
      "취기를 빌려 (취향저격 그녀 X 산들)\n",
      "밤하늘의 저 별처럼\n",
      "오래된 노래\n",
      "Bad Boy\n",
      "ALIEN\n",
      "When We Disco (Duet With 선미)\n",
      "소확행\n",
      "이제 나만 믿어요\n",
      "눈누난나 (NUNU NANA)\n",
      "내 마음이 움찔했던 순간 (취향저격 그녀 X 규현)\n",
      "오래된 노래\n",
      "사랑하고 싶지 않아 (바른연애 길잡이 X XIA (준수))\n",
      "마리아 (Maria)\n",
      "Step By Step (With 윤미래)\n",
      "만개 (Prod. 신지후)\n",
      "에잇 (Prod. & Feat. SUGA of BTS)\n",
      "How You Like That\n",
      "Dolphin\n",
      "도레미\n",
      "작은 것들을 위한 시 (Boy With Luv) (Feat. Halsey)\n",
      "어느 60대 노부부이야기\n",
      "겨우\n",
      "바램\n",
      "She Said (With BIBI)\n",
      "HEY BUDDY\n",
      "AH! LOVE\n",
      "우산이 없어요\n",
      "Pretty Savage\n",
      "살았소\n",
      "마음에 불을 지펴\n",
      "Bet You Wanna (Feat. Cardi B)\n",
      "Make A Wish (Birthday Song)\n",
      "Blueming\n",
      "다시 여기 바닷가\n",
      "Downtown Baby\n",
      "Dance Monkey\n",
      "춤 (With 이소라)\n",
      "살짝 설렜어 (Nonstop)\n",
      "이제 나만 믿어요 (Piano by 조영수)\n"
     ]
    }
   ],
   "source": [
    "# 노래 제목 크롤링\n",
    "for i in range(1, 2):\n",
    "    targetSite = '{}{}'.format(url, i)\n",
    "    # print(targetSite)\n",
    "    request = requests.get(targetSite, headers = header)\n",
    "    time.sleep(1)\n",
    "    # print(request)\n",
    "    html = request.text\n",
    "    # print(html)\n",
    "    soup = BeautifulSoup(html, 'html.parser')\n",
    "    # print(soup)\n",
    "    \n",
    "    titles = soup.findAll('a', {'class': 'title ellipsis'})\n",
    "    # print(titles)\n",
    "    # print(len(titles))\n",
    "    for title in titles:\n",
    "        # print(title.text.strip())\n",
    "        # print(title.text.split('\\n')[-1])\n",
    "        print(title.text.strip().split('\\n')[0])"
   ]
  },
  {
   "cell_type": "code",
   "execution_count": null,
   "metadata": {},
   "outputs": [],
   "source": []
  },
  {
   "cell_type": "code",
   "execution_count": null,
   "metadata": {},
   "outputs": [],
   "source": []
  },
  {
   "cell_type": "code",
   "execution_count": null,
   "metadata": {},
   "outputs": [],
   "source": []
  },
  {
   "cell_type": "code",
   "execution_count": null,
   "metadata": {},
   "outputs": [],
   "source": []
  }
 ],
 "metadata": {
  "kernelspec": {
   "display_name": "Python 3",
   "language": "python",
   "name": "python3"
  },
  "language_info": {
   "codemirror_mode": {
    "name": "ipython",
    "version": 3
   },
   "file_extension": ".py",
   "mimetype": "text/x-python",
   "name": "python",
   "nbconvert_exporter": "python",
   "pygments_lexer": "ipython3",
   "version": "3.6.8"
  }
 },
 "nbformat": 4,
 "nbformat_minor": 4
}
