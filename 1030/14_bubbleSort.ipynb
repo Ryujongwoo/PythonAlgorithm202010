{
 "cells": [
  {
   "cell_type": "code",
   "execution_count": 2,
   "metadata": {},
   "outputs": [
    {
     "data": {
      "image/png": "[encoded data removed]",
      "text/plain": [
       "<IPython.core.display.Image object>"
      ]
     },
     "execution_count": 2,
     "metadata": {
      "image/png": {
       "width": "1000"
      }
     },
     "output_type": "execute_result"
    }
   ],
   "source": [
    "from IPython.display import Image\n",
    "Image('./bubbleSort.png', width = '1000')"
   ]
  },
  {
   "cell_type": "code",
   "execution_count": 6,
   "metadata": {},
   "outputs": [
    {
     "name": "stdout",
     "output_type": "stream",
     "text": [
      "i = 0, j = 0\n",
      "i = 0, j = 1\n",
      "i = 0, j = 2\n",
      "i = 0, j = 3\n",
      "i = 1, j = 0\n",
      "i = 1, j = 1\n",
      "i = 1, j = 2\n",
      "i = 2, j = 0\n",
      "i = 2, j = 1\n",
      "i = 3, j = 0\n"
     ]
    }
   ],
   "source": [
    "for i in range(4):\n",
    "    for j in range(5 - i - 1):\n",
    "        print('i = {}, j = {}'.format(i, j))"
   ]
  },
  {
   "cell_type": "code",
   "execution_count": 10,
   "metadata": {},
   "outputs": [
    {
     "name": "stdout",
     "output_type": "stream",
     "text": [
      "1회전 결과 : [3, 4, 8, 1, 9]\n",
      "2회전 결과 : [3, 4, 1, 8, 9]\n",
      "3회전 결과 : [3, 1, 4, 8, 9]\n",
      "4회전 결과 : [1, 3, 4, 8, 9]\n"
     ]
    }
   ],
   "source": [
    "sortData = [8, 3, 4, 9, 1]\n",
    "for i in range(len(sortData) - 1):\n",
    "    for j in range(len(sortData) - i - 1):\n",
    "        # 부등호를 '<'로 변경하면 내림차순으로 정렬된다.\n",
    "        if sortData[j] > sortData[j + 1]:\n",
    "            sortData[j], sortData[j + 1] = sortData[j + 1], sortData[j]\n",
    "        # ================== if\n",
    "    # ================== for j => 회전 끝\n",
    "    print('{}회전 결과 : {}'.format(i + 1, sortData))\n",
    "# ================== for i 끝 => 정렬 끝\n",
    "# print('정렬 결과 : {}'.format(sortData))"
   ]
  },
  {
   "cell_type": "code",
   "execution_count": 12,
   "metadata": {},
   "outputs": [
    {
     "name": "stdout",
     "output_type": "stream",
     "text": [
      "1회전 결과 : [1, 3, 4, 8, 9]\n"
     ]
    }
   ],
   "source": [
    "# 중간 종료가 가능한 bubble Sort\n",
    "sortData = [9, 1, 3, 4, 8]\n",
    "for i in range(len(sortData) - 1):\n",
    "    # 정렬 작업을 시작하기 전에 flag 변수를 True로 설정한다.\n",
    "    flag = True\n",
    "    for j in range(len(sortData) - i - 1):\n",
    "        if sortData[j] > sortData[j + 1]:\n",
    "            # 값교환이 이루어지면 정렬 작업이 진행중이라는 의미이다.\n",
    "            sortData[j], sortData[j + 1] = sortData[j + 1], sortData[j]\n",
    "            # 정렬 작업이 진행되면 flag 변수를 False로 설정한다.\n",
    "            flag = False\n",
    "        # ================== if\n",
    "    # ================== for j => 회전 끝\n",
    "    if flag:\n",
    "        # flag 변수의 값이 True면 이미 리스트에 저장된 데이터가 정렬이 완료되었다는 의미이므로 정렬을 중지한다.\n",
    "        break\n",
    "    print('{}회전 결과 : {}'.format(i + 1, sortData))\n",
    "# ================== for i 끝 => 정렬 끝\n",
    "# print('정렬 결과 : {}'.format(sortData))"
   ]
  },
  {
   "cell_type": "code",
   "execution_count": null,
   "metadata": {},
   "outputs": [],
   "source": []
  },
  {
   "cell_type": "code",
   "execution_count": null,
   "metadata": {},
   "outputs": [],
   "source": []
  },
  {
   "cell_type": "code",
   "execution_count": null,
   "metadata": {},
   "outputs": [],
   "source": []
  },
  {
   "cell_type": "code",
   "execution_count": null,
   "metadata": {},
   "outputs": [],
   "source": []
  },
  {
   "cell_type": "code",
   "execution_count": null,
   "metadata": {},
   "outputs": [],
   "source": []
  },
  {
   "cell_type": "code",
   "execution_count": null,
   "metadata": {},
   "outputs": [],
   "source": []
  }
 ],
 "metadata": {
  "kernelspec": {
   "display_name": "Python 3",
   "language": "python",
   "name": "python3"
  },
  "language_info": {
   "codemirror_mode": {
    "name": "ipython",
    "version": 3
   },
   "file_extension": ".py",
   "mimetype": "text/x-python",
   "name": "python",
   "nbconvert_exporter": "python",
   "pygments_lexer": "ipython3",
   "version": "3.6.8"
  }
 },
 "nbformat": 4,
 "nbformat_minor": 4
}
