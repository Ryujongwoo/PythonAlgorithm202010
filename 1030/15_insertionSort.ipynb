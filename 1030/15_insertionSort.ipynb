{
 "cells": [
  {
   "cell_type": "code",
   "execution_count": 1,
   "metadata": {},
   "outputs": [
    {
     "data": {
      "image/png": "[encoded data removed]",
      "text/plain": [
       "<IPython.core.display.Image object>"
      ]
     },
     "execution_count": 1,
     "metadata": {
      "image/png": {
       "width": "1000"
      }
     },
     "output_type": "execute_result"
    }
   ],
   "source": [
    "from IPython.display import Image\n",
    "Image('./insertionSort.png', width = '1000')"
   ]
  },
  {
   "cell_type": "code",
   "execution_count": 2,
   "metadata": {},
   "outputs": [
    {
     "name": "stdout",
     "output_type": "stream",
     "text": [
      "i = 1, j = 0\n",
      "i = 2, j = 1\n",
      "i = 2, j = 0\n",
      "i = 3, j = 2\n",
      "i = 3, j = 1\n",
      "i = 3, j = 0\n",
      "i = 4, j = 3\n",
      "i = 4, j = 2\n",
      "i = 4, j = 1\n",
      "i = 4, j = 0\n"
     ]
    }
   ],
   "source": [
    "for i in range(1, 5):\n",
    "    for j in range(i - 1, -1, -1):\n",
    "        print('i = {}, j = {}'.format(i, j))"
   ]
  },
  {
   "cell_type": "code",
   "execution_count": 5,
   "metadata": {},
   "outputs": [
    {
     "name": "stdout",
     "output_type": "stream",
     "text": [
      "1회전 결과 : [3, 8, 4, 9, 1]\n",
      "2회전 결과 : [3, 4, 8, 9, 1]\n",
      "3회전 결과 : [3, 4, 8, 9, 1]\n",
      "4회전 결과 : [1, 3, 4, 8, 9]\n",
      "정렬 결과 : [1, 3, 4, 8, 9]\n"
     ]
    }
   ],
   "source": [
    "sortData = [8, 3, 4, 9, 1]\n",
    "for i in range(1, len(sortData)):\n",
    "    # 정렬된 파일에 새로운 레코드가 삽입될 위치를 찾기 위해 새로운 레코드와 인덱스를 각각 key와 index에 저장한다.\n",
    "    key = sortData[i]\n",
    "    index = i\n",
    "    \n",
    "    # 새로운 레코드가 삽입될 위치를 찾는다.\n",
    "    for j in range(i - 1, -1, -1):\n",
    "        if sortData[j] > key:\n",
    "            # 앞의 데이터가 크기 때문에 인덱스를 1증가 시키고 삽입할 레코드의 인덱스를 1감소 시킨다.\n",
    "            sortData[j + 1] = sortData[j]\n",
    "            index -= 1\n",
    "        else:\n",
    "            # 삽입할 레코드가 이미 정렬된 데이터 보다 크다면 더 이상 앞에있는 데이터와 비교할 필요가 없으므로 반복을\n",
    "            # 탈출시킨다.\n",
    "            break\n",
    "        # ================== if 끝\n",
    "    # ================== for j 끝 => 회전 끝\n",
    "    \n",
    "    # 새로운 레코드를 위치에 맞게 삽입한다.\n",
    "    sortData[index] = key\n",
    "    print('{}회전 결과 : {}'.format(i, sortData))\n",
    "# ================== for i 끝 => 정렬 끝\n",
    "print('정렬 결과 : {}'.format(sortData))"
   ]
  },
  {
   "cell_type": "code",
   "execution_count": null,
   "metadata": {},
   "outputs": [],
   "source": []
  },
  {
   "cell_type": "code",
   "execution_count": null,
   "metadata": {},
   "outputs": [],
   "source": []
  },
  {
   "cell_type": "code",
   "execution_count": null,
   "metadata": {},
   "outputs": [],
   "source": []
  },
  {
   "cell_type": "code",
   "execution_count": null,
   "metadata": {},
   "outputs": [],
   "source": []
  },
  {
   "cell_type": "code",
   "execution_count": null,
   "metadata": {},
   "outputs": [],
   "source": []
  },
  {
   "cell_type": "code",
   "execution_count": null,
   "metadata": {},
   "outputs": [],
   "source": []
  },
  {
   "cell_type": "code",
   "execution_count": null,
   "metadata": {},
   "outputs": [],
   "source": []
  },
  {
   "cell_type": "code",
   "execution_count": null,
   "metadata": {},
   "outputs": [],
   "source": []
  },
  {
   "cell_type": "code",
   "execution_count": null,
   "metadata": {},
   "outputs": [],
   "source": []
  },
  {
   "cell_type": "code",
   "execution_count": null,
   "metadata": {},
   "outputs": [],
   "source": []
  }
 ],
 "metadata": {
  "kernelspec": {
   "display_name": "Python 3",
   "language": "python",
   "name": "python3"
  },
  "language_info": {
   "codemirror_mode": {
    "name": "ipython",
    "version": 3
   },
   "file_extension": ".py",
   "mimetype": "text/x-python",
   "name": "python",
   "nbconvert_exporter": "python",
   "pygments_lexer": "ipython3",
   "version": "3.6.8"
  }
 },
 "nbformat": 4,
 "nbformat_minor": 4
}
