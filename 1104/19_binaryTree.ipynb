{
 "cells": [
  {
   "cell_type": "code",
   "execution_count": 58,
   "metadata": {},
   "outputs": [],
   "source": [
    "class BinaryTree:\n",
    "    # 생성자에서 트리의 노드를 만든다.\n",
    "    def __init__(self, data):\n",
    "        self.left = None  # 노드의 왼쪽 자식 노드를 기억한다.\n",
    "        self.data = data  # 노드의 데이터\n",
    "        self.right = None # 노드의 오른쪽 자식 노드를 기억한다.\n",
    "        \n",
    "    # 트리에 노드를 삽입하는 메소드\n",
    "    def insert(self, data):\n",
    "        # 트리에 삽입할 데이터 값과 부모 노드의 데이터 값을 비교해서 트리에 데이터가 삽입될 위치를 결정한다.\n",
    "        # 트리에 삽입할 데이터가 부모 노드의 데이터 보다 작으면 부모 노드의 왼쪽에 삽입한다.\n",
    "        # 트리에 삽입할 데이터가 부모 노드의 데이터 보다 크면 부모 노드의 오른쪽에 삽입한다.\n",
    "        print('트리에 삽입하려는 데이터 {}의 부모 노드의 데이터는 {} 입니다.'.format(data, self.data))\n",
    "        \n",
    "        # 삽입하려는 데이터가 부모 노드의 데이터 보다 작은가?\n",
    "        if data < self.data:\n",
    "            # 삽입할 데이터를 부모 노드의 왼쪽에 삽입한다.\n",
    "            # print('부모 노드의 데이터가 크기 때문에 부모 노드의 왼쪽에 데이터를 삽입한다.')\n",
    "            # 부모 노드의 왼쪽 링크(self.left)가 비어(None)있어야 데이터를 삽입할 수 있다.\n",
    "            if self.left is None:\n",
    "                # 부모 노드의 왼쪽 링크가 비어있으므로 데이터를 추가한다.\n",
    "                print('부모({}) 왼쪽에 {} 추가 가능'.format(self.data, data))\n",
    "                # 새 데이터를 추가해야 하므로 트리에 추가할 데이터로 BinaryTree 클래스의 객체를 생성해서 부모 노드의\n",
    "                # 비어있는 링크에 생성된 객체를 넣어준다.\n",
    "                self.left = BinaryTree(data)\n",
    "                print('부모({}) 왼쪽에 {} 추가 완료'.format(self.data, data))\n",
    "            else:\n",
    "                # 부모 노드의 왼쪽 링크가 비어있지 않기 때문에 데이터를 추가할 수 없다.\n",
    "                print('부모({}) 왼쪽에 {} 추가 불가능!! 부모 왼쪽의 {} 에서 재귀 호출~~~~~~'.format(self.data, data, \\\n",
    "                                                                              self.left.data))\n",
    "                self.left.insert(data)\n",
    "            # =============================================\n",
    "        # 삽입하려는 데이터가 부모 노드의 데이터 보다 큰가?\n",
    "        elif data > self.data:\n",
    "            # 삽입할 데이터를 부모 노드의 오른쪽에 삽입한다.\n",
    "            # print('부모 노드의 데이터 보다 크기 때문에 부모 노드의 오른쪽에 데이터를 삽입한다.')\n",
    "            # 부모 노드의 왼쪽 링크(self.right)가 비어(None)있어야 데이터를 삽입할 수 있다.\n",
    "            if self.right is None:\n",
    "                # 부모 노드의 오른쪽 링크가 비어있으므로 데이터를 추가한다.\n",
    "                print('부모({}) 오른쪽에 {} 추가 가능'.format(self.data, data))\n",
    "                # 새 데이터를 추가해야 하므로 트리에 추가할 데이터로 BinaryTree 클래스의 객체를 생성해서 부모 노드의\n",
    "                # 비어있는 링크에 생성된 객체를 넣어준다.\n",
    "                self.right = BinaryTree(data)\n",
    "                print('부모({}) 오른쪽에 {} 추가 완료'.format(self.data, data))\n",
    "            else:\n",
    "                # 부모 노드의 오른쪽 링크가 비어있지 않기 때문에 데이터를 추가할 수 없다.\n",
    "                print('부모({}) 오른쪽에 {} 추가 불가능!! 부모 오른쪽의 {} 에서 재귀 호출~~~~~~'.format(self.data, data, \\\n",
    "                                                                              self.right.data))\n",
    "                self.right.insert(data)\n",
    "            # =============================================\n",
    "        # 삽입하려는 데이터가 이미 트리에 존재하는가?\n",
    "        else:\n",
    "            print('{}는 이미 tree에 존재하는 데이터 입니다.'.format(data))\n",
    "    \n",
    "    # 트리를 구성하는 노드 목록을 inorder 방식으로 탐색해서 출력하는 메소드\n",
    "    def inorder(self):\n",
    "        # 왼쪽 자식 노드가 있나 검사한다. => 데이터가 있으면 True, 없으면(None) Fale\n",
    "        if self.left:\n",
    "            # 왼쪽 자식 노드가 있으면 왼쪽 자식 노드에서 재귀 호출을 실행한다.\n",
    "            self.left.inorder()\n",
    "        # 더 이상 자식 노드가 없으면 출력한다.\n",
    "        print(self.data, end = ' ')\n",
    "        # 오른쪽 자식 노드가 있나 검사한다. => 데이터가 있으면 True, 없으면(None) Fale\n",
    "        if self.right:\n",
    "            # 오른쪽 자식 노드가 있으면 오른쪽 자식 노드에서 재귀 호출을 실행한다.\n",
    "            self.right.inorder()\n",
    "    \n",
    "    # 트리를 구성하는 노드 목록을 preorder 방식으로 탐색해서 출력하는 메소드\n",
    "    def preorder(self):\n",
    "        print(self.data, end = ' ')\n",
    "        if self.left:\n",
    "            self.left.preorder()\n",
    "        if self.right:\n",
    "            self.right.preorder()\n",
    "    \n",
    "    # 트리를 구성하는 노드 목록을 postorder 방식으로 탐색해서 출력하는 메소드\n",
    "    def postorder(self):\n",
    "        if self.left:\n",
    "            self.left.postorder()\n",
    "        if self.right:\n",
    "            self.right.postorder()\n",
    "        print(self.data, end = ' ')"
   ]
  },
  {
   "cell_type": "code",
   "execution_count": 63,
   "metadata": {},
   "outputs": [
    {
     "name": "stdout",
     "output_type": "stream",
     "text": [
      "트리에 삽입하려는 데이터 6의 부모 노드의 데이터는 12 입니다.\n",
      "부모(12) 왼쪽에 6 추가 가능\n",
      "부모(12) 왼쪽에 6 추가 완료\n",
      "================================================================================\n",
      "트리에 삽입하려는 데이터 3의 부모 노드의 데이터는 12 입니다.\n",
      "부모(12) 왼쪽에 3 추가 불가능!! 부모 왼쪽의 6 에서 재귀 호출~~~~~~\n",
      "트리에 삽입하려는 데이터 3의 부모 노드의 데이터는 6 입니다.\n",
      "부모(6) 왼쪽에 3 추가 가능\n",
      "부모(6) 왼쪽에 3 추가 완료\n",
      "================================================================================\n",
      "트리에 삽입하려는 데이터 20의 부모 노드의 데이터는 12 입니다.\n",
      "부모(12) 오른쪽에 20 추가 가능\n",
      "부모(12) 오른쪽에 20 추가 완료\n",
      "================================================================================\n",
      "트리에 삽입하려는 데이터 25의 부모 노드의 데이터는 12 입니다.\n",
      "부모(12) 오른쪽에 25 추가 불가능!! 부모 오른쪽의 20 에서 재귀 호출~~~~~~\n",
      "트리에 삽입하려는 데이터 25의 부모 노드의 데이터는 20 입니다.\n",
      "부모(20) 오른쪽에 25 추가 가능\n",
      "부모(20) 오른쪽에 25 추가 완료\n",
      "================================================================================\n",
      "트리에 삽입하려는 데이터 15의 부모 노드의 데이터는 12 입니다.\n",
      "부모(12) 오른쪽에 15 추가 불가능!! 부모 오른쪽의 20 에서 재귀 호출~~~~~~\n",
      "트리에 삽입하려는 데이터 15의 부모 노드의 데이터는 20 입니다.\n",
      "부모(20) 왼쪽에 15 추가 가능\n",
      "부모(20) 왼쪽에 15 추가 완료\n",
      "================================================================================\n",
      "트리에 삽입하려는 데이터 10의 부모 노드의 데이터는 12 입니다.\n",
      "부모(12) 왼쪽에 10 추가 불가능!! 부모 왼쪽의 6 에서 재귀 호출~~~~~~\n",
      "트리에 삽입하려는 데이터 10의 부모 노드의 데이터는 6 입니다.\n",
      "부모(6) 오른쪽에 10 추가 가능\n",
      "부모(6) 오른쪽에 10 추가 완료\n"
     ]
    }
   ],
   "source": [
    "root = BinaryTree(12) # 이진 트리의 root 노드를 만든다.\n",
    "# 이진 트리에 데이터(node)를 추가한다.\n",
    "root.insert(6)\n",
    "print('=' * 80)\n",
    "root.insert(3)\n",
    "print('=' * 80)\n",
    "root.insert(20)\n",
    "print('=' * 80)\n",
    "root.insert(25)\n",
    "print('=' * 80)\n",
    "root.insert(15)\n",
    "print('=' * 80)\n",
    "root.insert(10)"
   ]
  },
  {
   "cell_type": "code",
   "execution_count": 64,
   "metadata": {},
   "outputs": [
    {
     "data": {
      "image/png": "[encoded data removed]",
      "text/plain": [
       "<IPython.core.display.Image object>"
      ]
     },
     "execution_count": 64,
     "metadata": {
      "image/png": {
       "width": "700"
      }
     },
     "output_type": "execute_result"
    }
   ],
   "source": [
    "from IPython.display import Image\n",
    "Image('./tree.png', width = '700')"
   ]
  },
  {
   "cell_type": "code",
   "execution_count": 65,
   "metadata": {},
   "outputs": [],
   "source": [
    "# inorder   : Left => Root => Right : 3 => 6 => 10 => 12 => 15 => 20 => 25\n",
    "# preorder  : Root => Left => Right : 12 => 6 => 3 => 10 => 20 => 15 => 25\n",
    "# postorder : Left => Right => Root : 3 => 10 => 6 => 15 => 25 => 20 => 12"
   ]
  },
  {
   "cell_type": "code",
   "execution_count": 66,
   "metadata": {},
   "outputs": [
    {
     "name": "stdout",
     "output_type": "stream",
     "text": [
      "3 6 10 12 15 20 25 \n",
      "12 6 3 10 20 15 25 \n",
      "3 10 6 15 25 20 12 "
     ]
    }
   ],
   "source": [
    "root.inorder()\n",
    "print()\n",
    "root.preorder()\n",
    "print()\n",
    "root.postorder()"
   ]
  },
  {
   "cell_type": "code",
   "execution_count": null,
   "metadata": {},
   "outputs": [],
   "source": []
  },
  {
   "cell_type": "code",
   "execution_count": null,
   "metadata": {},
   "outputs": [],
   "source": []
  },
  {
   "cell_type": "code",
   "execution_count": null,
   "metadata": {},
   "outputs": [],
   "source": []
  },
  {
   "cell_type": "code",
   "execution_count": null,
   "metadata": {},
   "outputs": [],
   "source": []
  },
  {
   "cell_type": "code",
   "execution_count": null,
   "metadata": {},
   "outputs": [],
   "source": []
  },
  {
   "cell_type": "code",
   "execution_count": null,
   "metadata": {},
   "outputs": [],
   "source": []
  },
  {
   "cell_type": "code",
   "execution_count": null,
   "metadata": {},
   "outputs": [],
   "source": []
  }
 ],
 "metadata": {
  "kernelspec": {
   "display_name": "Python 3",
   "language": "python",
   "name": "python3"
  },
  "language_info": {
   "codemirror_mode": {
    "name": "ipython",
    "version": 3
   },
   "file_extension": ".py",
   "mimetype": "text/x-python",
   "name": "python",
   "nbconvert_exporter": "python",
   "pygments_lexer": "ipython3",
   "version": "3.6.8"
  }
 },
 "nbformat": 4,
 "nbformat_minor": 4
}
