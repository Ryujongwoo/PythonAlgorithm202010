{
 "cells": [
  {
   "cell_type": "markdown",
   "metadata": {},
   "source": [
    "네이버 연령대별 실시간 검색어 순위"
   ]
  },
  {
   "cell_type": "code",
   "execution_count": 1,
   "metadata": {},
   "outputs": [],
   "source": [
    "import requests\n",
    "from bs4 import BeautifulSoup"
   ]
  },
  {
   "cell_type": "code",
   "execution_count": 7,
   "metadata": {},
   "outputs": [
    {
     "name": "stdout",
     "output_type": "stream",
     "text": [
      "https://datalab.naver.com/keyword/realtimeList.naver?age=10s&entertainment=-2&groupingLevel=4&marketing=-2&news=2&sports=2&where=main\n",
      "https://datalab.naver.com/keyword/realtimeList.naver?age=20s&entertainment=-2&groupingLevel=4&marketing=-2&news=2&sports=2&where=main\n",
      "https://datalab.naver.com/keyword/realtimeList.naver?age=30s&entertainment=-2&groupingLevel=4&marketing=-2&news=2&sports=2&where=main\n",
      "https://datalab.naver.com/keyword/realtimeList.naver?age=40s&entertainment=-2&groupingLevel=4&marketing=-2&news=2&sports=2&where=main\n",
      "https://datalab.naver.com/keyword/realtimeList.naver?age=50s&entertainment=-2&groupingLevel=4&marketing=-2&news=2&sports=2&where=main\n",
      "https://datalab.naver.com/keyword/realtimeList.naver?age=all&entertainment=-2&groupingLevel=4&marketing=-2&news=2&sports=2&where=main\n"
     ]
    }
   ],
   "source": [
    "# https://datalab.naver.com/keyword/realtimeList.naver?age=10s&entertainment=-2&groupingLevel=4&marketing=-2&news=2&sports=2&where=main\n",
    "# https://datalab.naver.com/keyword/realtimeList.naver?age=20s&entertainment=-2&groupingLevel=4&marketing=-2&news=2&sports=2&where=main\n",
    "# https://datalab.naver.com/keyword/realtimeList.naver?age=30s&entertainment=-2&groupingLevel=4&marketing=-2&news=2&sports=2&where=main\n",
    "# https://datalab.naver.com/keyword/realtimeList.naver?age=40s&entertainment=-2&groupingLevel=4&marketing=-2&news=2&sports=2&where=main\n",
    "# https://datalab.naver.com/keyword/realtimeList.naver?age=50s&entertainment=-2&groupingLevel=4&marketing=-2&news=2&sports=2&where=main\n",
    "# https://datalab.naver.com/keyword/realtimeList.naver?age=all&entertainment=-2&groupingLevel=4&marketing=-2&news=2&sports=2&where=main\n",
    "ageList = {'1': '10s', '2': '20s', '3': '30s', '4': '40s', '5': '50s', '6': 'all'}\n",
    "url1 = 'https://datalab.naver.com/keyword/realtimeList.naver?age=' # 공통 부분 앞부분\n",
    "url2 = '&entertainment=-2&groupingLevel=4&marketing=-2&news=2&sports=2&where=main' # 공통 부분 뒷부분\n",
    "for key in ageList.keys():\n",
    "    targetSite = '{}{}{}'.format(url1, ageList[key], url2)\n",
    "    print(targetSite)"
   ]
  },
  {
   "cell_type": "code",
   "execution_count": 26,
   "metadata": {},
   "outputs": [
    {
     "name": "stdout",
     "output_type": "stream",
     "text": [
      "연령대를 선택하세요(1 => 10대, 2 => 20대, 3 => 30대, 4 => 40대, 5 => 50데, 6 => 전체) : 6\n",
      "이건희 상속세\n",
      "생경\n",
      "대주주 10억 유지\n",
      "실미도\n",
      "유승준\n",
      "입도세\n",
      "토트넘 번리\n",
      "창원 코로나\n",
      "이동국\n",
      "흥춤\n",
      "이명희\n",
      "단춤\n",
      "에스파\n",
      "아델\n",
      "유지민\n",
      "산후조리원\n",
      "심지유\n",
      "2021 스타벅스 다이어리\n",
      "카이로스\n",
      "박주호\n"
     ]
    }
   ],
   "source": [
    "ageList = {'1': '10s', '2': '20s', '3': '30s', '4': '40s', '5': '50s', '6': 'all'}\n",
    "url1 = 'https://datalab.naver.com/keyword/realtimeList.naver?age='\n",
    "url2 = '&entertainment=-2&groupingLevel=4&marketing=-2&news=2&sports=2&where=main'\n",
    "key = input('연령대를 선택하세요(1 => 10대, 2 => 20대, 3 => 30대, 4 => 40대, 5 => 50데, 6 => 전체) : ')\n",
    "targetSite = '{}{}{}'.format(url1, ageList[key], url2)\n",
    "# print(targetSite)\n",
    "\n",
    "header = {'User-agent': 'Mozilla/5.0 (Windows NT 6.1; WOW64; Trident/7.0; rv:11.0) like Gecko'}\n",
    "request = requests.get(targetSite, headers = header)\n",
    "# print(request)\n",
    "html = request.text\n",
    "# print(html)\n",
    "soup = BeautifulSoup(html, 'html.parser')\n",
    "# print(soup)\n",
    "\n",
    "words = soup.findAll('span', {'class': 'item_title'})\n",
    "# print(words)\n",
    "for i in range(len(words)):\n",
    "    print(words[i].text)"
   ]
  },
  {
   "cell_type": "code",
   "execution_count": null,
   "metadata": {},
   "outputs": [],
   "source": []
  },
  {
   "cell_type": "code",
   "execution_count": null,
   "metadata": {},
   "outputs": [],
   "source": []
  },
  {
   "cell_type": "code",
   "execution_count": null,
   "metadata": {},
   "outputs": [],
   "source": []
  },
  {
   "cell_type": "code",
   "execution_count": null,
   "metadata": {},
   "outputs": [],
   "source": []
  },
  {
   "cell_type": "code",
   "execution_count": null,
   "metadata": {},
   "outputs": [],
   "source": []
  },
  {
   "cell_type": "code",
   "execution_count": null,
   "metadata": {},
   "outputs": [],
   "source": []
  },
  {
   "cell_type": "code",
   "execution_count": null,
   "metadata": {},
   "outputs": [],
   "source": []
  },
  {
   "cell_type": "code",
   "execution_count": null,
   "metadata": {},
   "outputs": [],
   "source": []
  }
 ],
 "metadata": {
  "kernelspec": {
   "display_name": "Python 3",
   "language": "python",
   "name": "python3"
  },
  "language_info": {
   "codemirror_mode": {
    "name": "ipython",
    "version": 3
   },
   "file_extension": ".py",
   "mimetype": "text/x-python",
   "name": "python",
   "nbconvert_exporter": "python",
   "pygments_lexer": "ipython3",
   "version": "3.6.8"
  }
 },
 "nbformat": 4,
 "nbformat_minor": 4
}
